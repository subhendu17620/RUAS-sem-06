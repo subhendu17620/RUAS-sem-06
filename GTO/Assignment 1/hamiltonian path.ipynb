{
 "cells": [
  {
   "cell_type": "code",
   "execution_count": 2,
   "metadata": {},
   "outputs": [],
   "source": [
    "from pyvis.network import Network\n",
    "net = Network()"
   ]
  },
  {
   "cell_type": "code",
   "execution_count": 3,
   "metadata": {},
   "outputs": [],
   "source": [
    "net.add_nodes([0,1,2,3])\n",
    "net.add_edges([(0, 1), (0, 2), (0, 3), (1, 2), (1, 3), (2, 3)])"
   ]
  },
  {
   "cell_type": "code",
   "execution_count": 4,
   "metadata": {},
   "outputs": [],
   "source": [
    "net.show(\"a.html\")"
   ]
  },
  {
   "cell_type": "code",
   "execution_count": 5,
   "metadata": {},
   "outputs": [
    {
     "name": "stdout",
     "output_type": "stream",
     "text": [
      "[[0, 1, 2, 3], [0, 1, 3, 2], [0, 2, 1, 3], [0, 2, 3, 1], [0, 3, 1, 2], [0, 3, 2, 1]]\n"
     ]
    }
   ],
   "source": [
    "class Graph:\n",
    " \n",
    "    # Constructor\n",
    "    def __init__(self, edges, N):\n",
    " \n",
    "        # A list of lists to represent an adjacency list\n",
    "        self.adjList = [[] for _ in range(N)]\n",
    " \n",
    "        # add edges to the undirected graph\n",
    "        for (src, dest) in edges:\n",
    "            self.adjList[src].append(dest)\n",
    "            self.adjList[dest].append(src)\n",
    " \n",
    " \n",
    "def printAllHamiltonianPaths(g, v, visited, path, N):\n",
    "    global allPaths\n",
    " \n",
    "    # if all the vertices are visited, then the Hamiltonian path exists\n",
    "    if len(path) == N:\n",
    "        # print the Hamiltonian path\n",
    "        allPaths.append(path[:])\n",
    "        return\n",
    " \n",
    "    # Check if every edge starting from vertex `v` leads to a solution or not\n",
    "    for w in g.adjList[v]:\n",
    " \n",
    "        # process only unvisited vertices as the Hamiltonian\n",
    "        # path visit each vertex exactly once\n",
    "        if not visited[w]:\n",
    "            visited[w] = True\n",
    "            path.append(w)\n",
    " \n",
    "            # check if adding vertex `w` to the path leads to the solution or not\n",
    "            printAllHamiltonianPaths(g, w, visited, path, N)\n",
    " \n",
    "            # backtrack\n",
    "            visited[w] = False\n",
    "            path.pop()\n",
    " \n",
    " \n",
    "if __name__ == '__main__':\n",
    " \n",
    "    # consider a complete graph having 4 vertices\n",
    "    edges = [(0, 1), (0, 2), (0, 3), (1, 2), (1, 3), (2, 3)]\n",
    " \n",
    "    # total number of nodes in the graph\n",
    "    N = 4\n",
    " \n",
    "    # build a graph from the given edges\n",
    "    g = Graph(edges, N)\n",
    " \n",
    "    # starting node\n",
    "    start = 0\n",
    " \n",
    "    # add starting node to the path\n",
    "    path = [start]\n",
    " \n",
    "    # mark the start node as visited\n",
    "    visited = [False] * N\n",
    "    visited[start] = True\n",
    "    allPaths = []\n",
    " \n",
    "    printAllHamiltonianPaths(g, start, visited, path, N)\n",
    "    print(allPaths)\n",
    " "
   ]
  },
  {
   "cell_type": "code",
   "execution_count": 6,
   "metadata": {},
   "outputs": [
    {
     "name": "stdout",
     "output_type": "stream",
     "text": [
      "[{'from': 0, 'to': 1}, {'from': 0, 'to': 2}, {'from': 0, 'to': 3}, {'from': 1, 'to': 2}, {'from': 1, 'to': 3}, {'from': 2, 'to': 3}]\n",
      "{'from': 0, 'to': 2}\n",
      "{'from': 1, 'to': 2}\n",
      "{'from': 1, 'to': 3}\n"
     ]
    }
   ],
   "source": [
    "reqPath = allPaths[2]\n",
    "allEd = net.get_edges()\n",
    "for j in allEd:\n",
    "    j.pop('color',None)\n",
    "    j.pop('width',None)\n",
    "    \n",
    "print(allEd)\n",
    "for i in range(len(reqPath)-1):\n",
    "    for j in allEd:\n",
    "        if (j['from']==reqPath[i] and j['to']==reqPath[i+1]) or (j['from']==reqPath[i+1] and j['to']==reqPath[i]):\n",
    "            print(j)\n",
    "            j['color'] = 'red'\n",
    "            j['width'] = 5\n",
    "        \n"
   ]
  },
  {
   "cell_type": "code",
   "execution_count": 7,
   "metadata": {},
   "outputs": [],
   "source": [
    "net.show(\"b.html\")"
   ]
  },
  {
   "cell_type": "code",
   "execution_count": null,
   "metadata": {},
   "outputs": [],
   "source": []
  }
 ],
 "metadata": {
  "kernelspec": {
   "display_name": "Python 3",
   "language": "python",
   "name": "python3"
  },
  "language_info": {
   "codemirror_mode": {
    "name": "ipython",
    "version": 3
   },
   "file_extension": ".py",
   "mimetype": "text/x-python",
   "name": "python",
   "nbconvert_exporter": "python",
   "pygments_lexer": "ipython3",
   "version": "3.8.8"
  }
 },
 "nbformat": 4,
 "nbformat_minor": 4
}
