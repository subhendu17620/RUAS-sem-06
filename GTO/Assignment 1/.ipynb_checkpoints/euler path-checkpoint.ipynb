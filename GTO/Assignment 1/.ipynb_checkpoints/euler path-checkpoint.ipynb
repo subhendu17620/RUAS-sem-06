{
 "cells": [
  {
   "cell_type": "code",
   "execution_count": 18,
   "metadata": {},
   "outputs": [],
   "source": [
    "from pyvis.network import Network\n",
    "from collections import defaultdict\n",
    "from copy import copy"
   ]
  },
  {
   "cell_type": "code",
   "execution_count": 13,
   "metadata": {},
   "outputs": [],
   "source": [
    "class Graph:\n",
    "    \n",
    "    # Constructor\n",
    "    def __init__(self, edges, N):\n",
    " \n",
    "        # A list of lists to represent an adjacency list\n",
    "        self.adjList = defaultdict(lambda : [])\n",
    "        \n",
    "        # for visualizing the graph\n",
    "        self.net = Network()\n",
    "        self.net.add_nodes([chr(ord('A') + i) for i in range(N)])\n",
    "        self.net.add_edges(edges)\n",
    "        \n",
    "        # add edges to the undirected graph\n",
    "        for (src, dest) in edges:\n",
    "            self.adjList[src].append(dest)\n",
    "            self.adjList[dest].append(src)"
   ]
  },
  {
   "cell_type": "code",
   "execution_count": 14,
   "metadata": {},
   "outputs": [],
   "source": [
    "g = Graph([('A', 'B'),('B','C')],3)\n",
    "g.net.show(\"a.html\")"
   ]
  },
  {
   "cell_type": "code",
   "execution_count": 15,
   "metadata": {},
   "outputs": [
    {
     "data": {
      "text/plain": [
       "[('A', 'B'), ('B', 'C')]"
      ]
     },
     "execution_count": 15,
     "metadata": {},
     "output_type": "execute_result"
    }
   ],
   "source": [
    "'''\n",
    "    is_connected - Checks if a graph in the form of a dictionary is \n",
    "    connected or not, using Breadth-First Search Algorithm (BFS)\n",
    "'''\n",
    "\n",
    "def is_connected(G):\n",
    "    start_node = list(G)[0]\n",
    "    color = {v: 'white' for v in G}\n",
    "    color[start_node] = 'gray'\n",
    "    S = [start_node]\n",
    "    while len(S) != 0:\n",
    "        u = S.pop()\n",
    "        for v in G[u]:\n",
    "            if color[v] == 'white':\n",
    "                color[v] = 'gray'\n",
    "                S.append(v)\n",
    "            color[u] = 'black'\n",
    "    return list(color.values()).count('black') == len(G)\n",
    "\n",
    "'''\n",
    "    odd_degree_nodes - returns a list of all G odd degrees nodes\n",
    "'''\n",
    "def odd_degree_nodes(G):\n",
    "    odd_degree_nodes = []\n",
    "    for u in G:\n",
    "        if len(G[u]) % 2 != 0:\n",
    "            odd_degree_nodes.append(u)\n",
    "    return odd_degree_nodes\n",
    "\n",
    "'''\n",
    "    from_dict - return a list of tuples links from a graph G in a \n",
    "    dictionary format\n",
    "'''\t\n",
    "def from_dict(G):\n",
    "    links = []\n",
    "    for u in G:\n",
    "        for v in G[u]:\n",
    "            links.append((u,v))\n",
    "    return links\n",
    "\n",
    "'''\n",
    "    fleury(G) - return eulerian trail from graph G or a \n",
    "    string 'Not Eulerian Graph' if it's not possible to trail a path\n",
    "'''\n",
    "def fleury(G):\n",
    "    '''\n",
    "        checks if G has eulerian cycle or trail\n",
    "    '''\n",
    "    odn = odd_degree_nodes(G)\n",
    "    if len(odn) > 2 or len(odn) == 1:\n",
    "        return 'Not Eulerian Graph'\n",
    "    else:\n",
    "        g = copy(G)\n",
    "        trail = []\n",
    "        if len(odn) == 2:\n",
    "            u = odn[0]\n",
    "        else:\n",
    "            u = list(g)[0]\n",
    "        while len(from_dict(g)) > 0:\n",
    "            current_vertex = u\n",
    "            for u in g[current_vertex]:\n",
    "                g[current_vertex].remove(u)\n",
    "                g[u].remove(current_vertex)\n",
    "                bridge = not is_connected(g)\n",
    "                if bridge:\n",
    "                    g[current_vertex].append(u)\n",
    "                    g[u].append(current_vertex)\n",
    "                else:\n",
    "                    break\n",
    "            if bridge:\n",
    "                g[current_vertex].remove(u)\n",
    "                g[u].remove(current_vertex)\n",
    "                g.pop(current_vertex)\n",
    "            trail.append((current_vertex, u))\n",
    "    return trail\n",
    "\n",
    "# testing seven bridges of konigsberg\n",
    "# print('Konigsberg')\n",
    "# G = {0: [2, 2, 3], 1: [2, 2, 3], 2: [0, 0, 1, 1, 3], 3: [0, 1, 2]}\n",
    "# print(fleury(G))\n",
    "\n",
    "# # testing an eulerian cycle\n",
    "# print('1st Eulerian Cycle')\n",
    "# G = {0: [1, 4, 6, 8], 1: [0, 2, 3, 8], 2: [1, 3], 3: [1, 2, 4, 5], 4: [0, 3], 5: [3, 6], 6: [0, 5, 7, 8], 7: [6, 8], 8: [0, 1, 6, 7]}\n",
    "# print(fleury(G))\n",
    "\n",
    "# # testing another eulerian cycle\n",
    "# print('2nd Eulerian Cycle')\n",
    "# G = {1: [2, 3, 4, 4], 2: [1, 3, 3, 4], 3: [1, 2, 2, 4], 4: [1, 1, 2, 3]}\n",
    "# print(fleury(G))\n",
    "\n",
    "x = fleury(g.adjList)\n",
    "x"
   ]
  },
  {
   "cell_type": "code",
   "execution_count": 16,
   "metadata": {},
   "outputs": [
    {
     "name": "stdout",
     "output_type": "stream",
     "text": [
      "[{'from': 'A', 'to': 'B'}, {'from': 'B', 'to': 'C'}]\n"
     ]
    }
   ],
   "source": [
    "allEd = g.net.get_edges()\n",
    "for j in allEd:\n",
    "    j.pop('color',None)\n",
    "    j.pop('width',None)\n",
    "    \n",
    "# print(allEd)\n",
    "ctr = 0\n",
    "for edge in x:\n",
    "    for j in allEd:\n",
    "        if (j['from']==edge[0] and j['to']==edge[1]) or (j['from']==edge[1] and j['to']==edge[0]) :\n",
    "            ctr+=1\n",
    "            j['color'] = 'red'\n",
    "            j['width'] = 5\n",
    "            j['label'] = ctr"
   ]
  },
  {
   "cell_type": "code",
   "execution_count": 17,
   "metadata": {},
   "outputs": [],
   "source": [
    "g.net.show(\"b.html\")"
   ]
  },
  {
   "cell_type": "code",
   "execution_count": null,
   "metadata": {},
   "outputs": [],
   "source": []
  }
 ],
 "metadata": {
  "kernelspec": {
   "display_name": "Python 3",
   "language": "python",
   "name": "python3"
  },
  "language_info": {
   "codemirror_mode": {
    "name": "ipython",
    "version": 3
   },
   "file_extension": ".py",
   "mimetype": "text/x-python",
   "name": "python",
   "nbconvert_exporter": "python",
   "pygments_lexer": "ipython3",
   "version": "3.8.8"
  }
 },
 "nbformat": 4,
 "nbformat_minor": 4
}
